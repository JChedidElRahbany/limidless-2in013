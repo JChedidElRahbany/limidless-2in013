{
 "cells": [
  {
   "cell_type": "code",
   "execution_count": 13,
   "metadata": {},
   "outputs": [],
   "source": [
    "import pyAgrum as gum\n",
    "import pyAgrum.lib.notebook as gnb"
   ]
  },
  {
   "cell_type": "code",
   "execution_count": 14,
   "metadata": {},
   "outputs": [],
   "source": [
    "# initialising the ID\n",
    "\n",
    "id_model = gum.InfluenceDiagram()\n",
    "\n",
    "treatment = id_model.addDecisionNode(gum.LabelizedVariable('treatment', 'Treatment options', ['Surgery', 'Chemotherapy', 'RadioTherapy']))\n",
    "\n",
    "general_health = id_model.addChanceNode(gum.LabelizedVariable('general_health', 'General Health of patient', ['Good', 'Medium', 'Poor']))\n",
    "side_effects = id_model.addChanceNode(gum.LabelizedVariable('side_effects', 'side effects of the treatment', ['Mild', 'Moderate', 'Severe']))\n",
    "treatment_duration = id_model.addChanceNode(gum.LabelizedVariable('treatment_duration', 'Treatment Duration', ['Long', 'Medium', 'Short']))\n",
    "\n",
    "quality_of_life = id_model.addUtilityNode(gum.LabelizedVariable('quality_of_life', 'Quality of life', 1))"
   ]
  },
  {
   "cell_type": "code",
   "execution_count": 15,
   "metadata": {},
   "outputs": [],
   "source": [
    "# setting the arc, ie dependencies, between nodes\n",
    "\n",
    "id_model.addArc(general_health, treatment)\n",
    "id_model.addArc(side_effects, quality_of_life)\n",
    "id_model.addArc(treatment, quality_of_life)\n",
    "id_model.addArc(treatment, side_effects)\n",
    "id_model.addArc(treatment, treatment_duration)\n",
    "id_model.addArc(treatment_duration, quality_of_life)"
   ]
  },
  {
   "cell_type": "code",
   "execution_count": 16,
   "metadata": {},
   "outputs": [
    {
     "name": "stdout",
     "output_type": "stream",
     "text": [
      "\n",
      "      ||  side_effects               |\n",
      "treatm||Mild     |Moderate |Severe   |\n",
      "------||---------|---------|---------|\n",
      "Surger|| 0.3000  | 0.2000  | 0.5000  |\n",
      "Chemot|| 0.1000  | 0.2000  | 0.7000  |\n",
      "RadioT|| 0.6000  | 0.3000  | 0.1000  |\n",
      "\n"
     ]
    }
   ],
   "source": [
    "# filling conditional probability tables (cpt) (here arbitrarily, but usually using previous data)\n",
    "\n",
    "id_model.cpt(general_health).fillWith([0.1, 0.3, 0.6])\n",
    "\n",
    "id_model.cpt(side_effects)[{'treatment':'Surgery'}] = [0.3, 0.2, 0.5]\n",
    "id_model.cpt(side_effects)[{'treatment':'Chemotherapy'}] = [0.1, 0.2, 0.7]\n",
    "id_model.cpt(side_effects)[{'treatment':'RadioTherapy'}] = [0.6, 0.3, 0.1]\n",
    "\n",
    "id_model.cpt(treatment_duration)[{'treatment':'Surgery'}] = [0.1, 0.2, 0.7]\n",
    "id_model.cpt(treatment_duration)[{'treatment':'Chemotherapy'}] = [0.7, 0.2, 0.1]\n",
    "id_model.cpt(treatment_duration)[{'treatment':'RadioTherapy'}] = [0.3, 0.2, 0.5]\n",
    "\n",
    "# printing out one of the cpts\n",
    "\n",
    "node_name = 'side_effects'\n",
    "node = id_model.cpt(node_name)\n",
    "print(node)"
   ]
  },
  {
   "cell_type": "code",
   "execution_count": 17,
   "metadata": {},
   "outputs": [
    {
     "name": "stdout",
     "output_type": "stream",
     "text": [
      "Utility value of quality_of_life\n",
      "\n",
      "                    ||  quality|\n",
      "side_e|treatm|treatm||0        |\n",
      "------|------|------||---------|\n",
      "Mild  |Surger|Long  || 33.0000 |\n",
      "Modera|Surger|Long  || 28.0000 |\n",
      "Severe|Surger|Long  || 8.0000  |\n",
      "Mild  |Chemot|Long  || 35.0000 |\n",
      "Modera|Chemot|Long  || 30.0000 |\n",
      "Severe|Chemot|Long  || 10.0000 |\n",
      "[...15 more line(s) ...]\n",
      "Mild  |Chemot|Short || 47.0000 |\n",
      "Modera|Chemot|Short || 42.0000 |\n",
      "Severe|Chemot|Short || 22.0000 |\n",
      "Mild  |RadioT|Short || 44.0000 |\n",
      "Modera|RadioT|Short || 39.0000 |\n",
      "Severe|RadioT|Short || 19.0000 |\n",
      "\n"
     ]
    }
   ],
   "source": [
    "# utilities\n",
    "\n",
    "id_model.utility(quality_of_life)[{'treatment':'Surgery', 'side_effects':'Mild', 'treatment_duration':'Long'}] = 20\n",
    "id_model.utility(quality_of_life)[{'treatment':'Surgery', 'side_effects':'Mild', 'treatment_duration':'Medium'}] = 30\n",
    "id_model.utility(quality_of_life)[{'treatment':'Surgery', 'side_effects':'Mild', 'treatment_duration':'Short'}] = 40\n",
    "\n",
    "# ... and so on, for all 27 arrangements of variable values\n",
    "# or, loop thru them and assign each chance node a weighted value to add to the utility\n",
    "\n",
    "for tre_val in ['Surgery', 'Chemotherapy', 'RadioTherapy']:\n",
    "    for side_val in ['Mild', 'Moderate', 'Severe']:\n",
    "        for dura_val in ['Long', 'Medium', 'Short']:\n",
    "            id_model.utility(quality_of_life)[{'treatment':tre_val, 'side_effects':side_val, 'treatment_duration':dura_val}] = (\n",
    "                0.2 * (10 if tre_val=='Surgery' else (20 if tre_val=='Chemotherapy' else 5)) + \n",
    "                0.5 * (50 if side_val=='Mild' else (40 if side_val=='Moderate' else 0)) + \n",
    "                0.3 * (20 if dura_val=='Long' else (30 if dura_val=='Medium' else 60))\n",
    "            )\n",
    "\n",
    "def print_all_utilities(model):\n",
    "    for node_name in model.names():\n",
    "        if model.isUtilityNode(node_name):\n",
    "            print(f'Utility value of {node_name}')\n",
    "            print(model.utility(node_name))\n",
    "\n",
    "print_all_utilities(id_model)"
   ]
  },
  {
   "cell_type": "code",
   "execution_count": 18,
   "metadata": {},
   "outputs": [
    {
     "data": {
      "image/svg+xml": [
       "<svg xmlns=\"http://www.w3.org/2000/svg\" xmlns:xlink=\"http://www.w3.org/1999/xlink\" width=\"399pt\" height=\"274pt\" viewBox=\"0.00 0.00 398.71 274.38\">\n",
       "<g id=\"graph0\" class=\"graph\" transform=\"scale(1 1) rotate(0) translate(4 270.38)\">\n",
       "<title>G</title>\n",
       "<!-- general_health -->\n",
       "<g id=\"node1\" class=\"node\">\n",
       "<title>general_health</title>\n",
       "<ellipse fill=\"#808080\" stroke=\"#4a4a4a\" cx=\"265.3\" cy=\"-245.88\" rx=\"84.71\" ry=\"20.51\"/>\n",
       "<text text-anchor=\"middle\" x=\"265.3\" y=\"-242.18\" font-family=\"Times,serif\" font-size=\"14.00\" fill=\"#4a4a4a\">general_health</text>\n",
       "</g>\n",
       "<!-- treatment -->\n",
       "<g id=\"node4\" class=\"node\">\n",
       "<title>treatment</title>\n",
       "<polygon fill=\"#9a5050\" stroke=\"#4a4a4a\" points=\"308.8,-189.37 221.8,-189.37 221.8,-160.37 308.8,-160.37 308.8,-189.37\"/>\n",
       "<text text-anchor=\"middle\" x=\"265.3\" y=\"-171.17\" font-family=\"Times,serif\" font-size=\"14.00\" fill=\"#4a4a4a\">treatment</text>\n",
       "</g>\n",
       "<!-- general_health&#45;&gt;treatment -->\n",
       "<g id=\"edge4\" class=\"edge\">\n",
       "<title>general_health-&gt;treatment</title>\n",
       "<polygon fill=\"#4a4a4a\" stroke=\"transparent\" stroke-width=\"2\" stroke-dasharray=\"1,5\" points=\"266.3,-225.29 266.25,-224.08 266.2,-222.85 266.15,-221.61 266.1,-220.36 266.05,-219.09 266,-217.81 265.95,-216.52 265.9,-215.22 265.85,-213.92 265.8,-212.61 265.75,-211.3 265.7,-209.99 265.65,-208.67 265.6,-207.36 265.55,-206.06 265.5,-204.76 265.45,-203.46 265.4,-202.18 265.35,-200.91 265.3,-199.65 265.3,-199.65 265.25,-200.91 265.2,-202.18 265.15,-203.46 265.1,-204.76 265.05,-206.06 265,-207.36 264.94,-208.67 264.89,-209.99 264.84,-211.3 264.79,-212.61 264.74,-213.92 264.69,-215.22 264.64,-216.52 264.59,-217.81 264.54,-219.09 264.49,-220.36 264.44,-221.61 264.39,-222.85 264.34,-224.08 264.3,-225.29 266.3,-225.29\"/>\n",
       "<polygon fill=\"#4a4a4a\" stroke=\"#4a4a4a\" stroke-width=\"2\" points=\"268.8,-199.38 265.3,-189.38 261.8,-199.38 268.8,-199.38\"/>\n",
       "</g>\n",
       "<!-- side_effects -->\n",
       "<g id=\"node2\" class=\"node\">\n",
       "<title>side_effects</title>\n",
       "<ellipse fill=\"#808080\" stroke=\"#4a4a4a\" cx=\"69.3\" cy=\"-103.86\" rx=\"69.09\" ry=\"20.51\"/>\n",
       "<text text-anchor=\"middle\" x=\"69.3\" y=\"-100.16\" font-family=\"Times,serif\" font-size=\"14.00\" fill=\"#4a4a4a\">side_effects</text>\n",
       "</g>\n",
       "<!-- quality_of_life -->\n",
       "<g id=\"node5\" class=\"node\">\n",
       "<title>quality_of_life</title>\n",
       "<polygon fill=\"#50508a\" stroke=\"#4a4a4a\" points=\"358.46,-23.68 311.88,-47.54 218.72,-47.54 172.14,-23.68 218.72,0.18 311.88,0.18 358.46,-23.68\"/>\n",
       "<text text-anchor=\"middle\" x=\"265.3\" y=\"-19.98\" font-family=\"Times,serif\" font-size=\"14.00\" fill=\"#4a4a4a\">quality_of_life</text>\n",
       "</g>\n",
       "<!-- side_effects&#45;&gt;quality_of_life -->\n",
       "<g id=\"edge5\" class=\"edge\">\n",
       "<title>side_effects-&gt;quality_of_life</title>\n",
       "<path fill=\"none\" stroke=\"#4a4a4a\" stroke-dasharray=\"5,2\" d=\"M108.96,-87.04C136.33,-76.12 173.25,-61.4 204.33,-49\"/>\n",
       "<polygon fill=\"#4a4a4a\" stroke=\"#4a4a4a\" points=\"205.78,-52.19 213.78,-45.23 203.19,-45.68 205.78,-52.19\"/>\n",
       "</g>\n",
       "<!-- treatment_duration -->\n",
       "<g id=\"node3\" class=\"node\">\n",
       "<title>treatment_duration</title>\n",
       "<ellipse fill=\"#808080\" stroke=\"#4a4a4a\" cx=\"265.3\" cy=\"-103.86\" rx=\"108.79\" ry=\"20.51\"/>\n",
       "<text text-anchor=\"middle\" x=\"265.3\" y=\"-100.16\" font-family=\"Times,serif\" font-size=\"14.00\" fill=\"#4a4a4a\">treatment_duration</text>\n",
       "</g>\n",
       "<!-- treatment_duration&#45;&gt;quality_of_life -->\n",
       "<g id=\"edge6\" class=\"edge\">\n",
       "<title>treatment_duration-&gt;quality_of_life</title>\n",
       "<path fill=\"none\" stroke=\"#4a4a4a\" stroke-dasharray=\"5,2\" d=\"M265.3,-83.13C265.3,-75.42 265.3,-66.35 265.3,-57.69\"/>\n",
       "<polygon fill=\"#4a4a4a\" stroke=\"#4a4a4a\" points=\"268.8,-57.45 265.3,-47.45 261.8,-57.45 268.8,-57.45\"/>\n",
       "</g>\n",
       "<!-- treatment&#45;&gt;side_effects -->\n",
       "<g id=\"edge1\" class=\"edge\">\n",
       "<title>treatment-&gt;side_effects</title>\n",
       "<path fill=\"none\" stroke=\"#4a4a4a\" d=\"M226.57,-160.24C196.62,-149.69 154.83,-134.98 121.86,-123.37\"/>\n",
       "<polygon fill=\"#4a4a4a\" stroke=\"#4a4a4a\" points=\"122.96,-120.05 112.37,-120.03 120.64,-126.65 122.96,-120.05\"/>\n",
       "</g>\n",
       "<!-- treatment&#45;&gt;treatment_duration -->\n",
       "<g id=\"edge2\" class=\"edge\">\n",
       "<title>treatment-&gt;treatment_duration</title>\n",
       "<path fill=\"none\" stroke=\"#4a4a4a\" d=\"M265.3,-160.24C265.3,-152.9 265.3,-143.54 265.3,-134.61\"/>\n",
       "<polygon fill=\"#4a4a4a\" stroke=\"#4a4a4a\" points=\"268.8,-134.48 265.3,-124.48 261.8,-134.48 268.8,-134.48\"/>\n",
       "</g>\n",
       "<!-- treatment&#45;&gt;quality_of_life -->\n",
       "<g id=\"edge3\" class=\"edge\">\n",
       "<title>treatment-&gt;quality_of_life</title>\n",
       "<path fill=\"none\" stroke=\"#4a4a4a\" stroke-dasharray=\"5,2\" d=\"M308.92,-167.75C335.26,-161.56 366.81,-149.16 383.3,-124.37 393.39,-109.19 392.9,-98.85 383.3,-83.36 372.32,-65.64 354.21,-53.1 335.44,-44.3\"/>\n",
       "<polygon fill=\"#4a4a4a\" stroke=\"#4a4a4a\" points=\"336.77,-41.06 326.2,-40.27 333.97,-47.48 336.77,-41.06\"/>\n",
       "</g>\n",
       "</g>\n",
       "</svg>"
      ],
      "text/plain": [
       "<IPython.core.display.SVG object>"
      ]
     },
     "metadata": {},
     "output_type": "display_data"
    }
   ],
   "source": [
    "gnb.showInfluenceDiagram(id_model)"
   ]
  },
  {
   "cell_type": "code",
   "execution_count": null,
   "metadata": {},
   "outputs": [],
   "source": []
  }
 ],
 "metadata": {
  "kernelspec": {
   "display_name": "bayes_env",
   "language": "python",
   "name": "python3"
  },
  "language_info": {
   "codemirror_mode": {
    "name": "ipython",
    "version": 3
   },
   "file_extension": ".py",
   "mimetype": "text/x-python",
   "name": "python",
   "nbconvert_exporter": "python",
   "pygments_lexer": "ipython3",
   "version": "3.10.16"
  }
 },
 "nbformat": 4,
 "nbformat_minor": 2
}
