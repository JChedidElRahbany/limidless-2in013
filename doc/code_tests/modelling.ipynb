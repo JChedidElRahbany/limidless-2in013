{
 "cells": [
  {
   "cell_type": "code",
   "execution_count": 150,
   "id": "3114afcb",
   "metadata": {},
   "outputs": [],
   "source": [
    "import pyAgrum as gum\n",
    "import pyAgrum.lib.notebook as gnb\n",
    "import itertools"
   ]
  },
  {
   "cell_type": "code",
   "execution_count": 151,
   "id": "97f94a58",
   "metadata": {},
   "outputs": [],
   "source": [
    "def generate_all_policies(diagram, decision_node): # get all possible strategies (policies) for a decision node\n",
    "    parent_ids = diagram.parents(decision_node)\n",
    "    parent_domains = [range(diagram.variable(p).domainSize()) for p in parent_ids]\n",
    "    decision_domain = range(diagram.variable(decision_node).domainSize())\n",
    "\n",
    "    policies = []\n",
    "    for mapping in itertools.product(decision_domain, repeat=int(pow(len(decision_domain), len(parent_ids)))):\n",
    "        policy = {}\n",
    "        for parents_values, decision_value in zip(itertools.product(*parent_domains), mapping):\n",
    "            policy[parents_values] = decision_value\n",
    "        policies.append(policy)\n",
    "    return policies\n",
    "\n",
    "def get_node_domain_sizes(diagram):\n",
    "    return {n: diagram.variable(n).domainSize() for n in diagram.nodes() if not diagram.isUtilityNode(n)}\n",
    "\n",
    "def generate_all_assignments(diagram):\n",
    "    domain_sizes = get_node_domain_sizes(diagram)\n",
    "\n",
    "    var_ids = list(domain_sizes.keys())\n",
    "    var_names = [diagram.variable(n).name() for n in var_ids]\n",
    "    var_domains = [range(domain_sizes[n]) for n in var_ids]\n",
    "\n",
    "    all_combinations = itertools.product(*var_domains)\n",
    "\n",
    "    all_assignments = []\n",
    "    for combo in all_combinations:\n",
    "        assignment = {}\n",
    "        for i in range(len(var_names)):\n",
    "            assignment[var_names[i]] = combo[i]\n",
    "        all_assignments.append(assignment)\n",
    "\n",
    "    return all_assignments\n",
    "\n",
    "def compute_meu(id): # for just ids with one decision node (for now)\n",
    "    decision_nodes = [node for node in id.nodes() if id.isDecisionNode(node)]\n",
    "    if len(decision_nodes) != 1:\n",
    "        return\n",
    "    \n",
    "    policies = generate_all_policies(id, decision_nodes[0])\n",
    "\n",
    "    for policy in policies:\n",
    "        eu = 0\n",
    "        assignments = generate_all_assignments(id)\n",
    "        for a in assignments:\n",
    "            pass\n",
    "        \n",
    "# NOT DONE YET BUT I HAVE A VISION I JUST NEED SLEEP"
   ]
  },
  {
   "cell_type": "code",
   "execution_count": 152,
   "id": "ca75c17e",
   "metadata": {},
   "outputs": [
    {
     "data": {
      "text/plain": [
       "'policy, meu = compute_meu(id)\\n\\nprint(\"MEU:\", meu)\\nprint(\"Best Policy:\", policy)'"
      ]
     },
     "execution_count": 152,
     "metadata": {},
     "output_type": "execute_result"
    }
   ],
   "source": [
    "id = gum.InfluenceDiagram()\n",
    "\n",
    "rain = id.addChanceNode(gum.LabelizedVariable(\"Rain\", 'rain', ['No', 'Yes']))\n",
    "umbrella = id.addDecisionNode(gum.LabelizedVariable(\"Umbrella\", 'umbrella', ['Take', 'Dont take']))\n",
    "utility = id.addUtilityNode(gum.LabelizedVariable(\"am i happy\", 'am i tho', 1))\n",
    "\n",
    "id.cpt(rain)[{'Rain':'No'}] = 0.7\n",
    "id.cpt(rain)[{'Rain':'Yes'}] = 0.3\n",
    "\n",
    "id.addArc(rain, umbrella)\n",
    "#id.addArc(rain, utility)\n",
    "id.addArc(umbrella, utility)\n",
    "\n",
    "u = id.utility(utility)\n",
    "u[{'Rain':'No', 'Umbrella':'Dont take'}] = 10\n",
    "u[{'Rain':'No', 'Umbrella':'Take'}] = 7   \n",
    "u[{'Rain':'Yes', 'Umbrella':'Dont take'}] = 0   \n",
    "u[{'Rain':'Yes', 'Umbrella':'Take'}] = 9\n",
    "\n",
    "'''policy, meu = compute_meu(id)\n",
    "\n",
    "print(\"MEU:\", meu)\n",
    "print(\"Best Policy:\", policy)'''"
   ]
  },
  {
   "cell_type": "code",
   "execution_count": 153,
   "id": "bae3c81c",
   "metadata": {},
   "outputs": [
    {
     "data": {
      "text/plain": [
       "{0: 2, 1: 2}"
      ]
     },
     "execution_count": 153,
     "metadata": {},
     "output_type": "execute_result"
    }
   ],
   "source": [
    "get_node_domain_sizes(id)"
   ]
  },
  {
   "cell_type": "code",
   "execution_count": 154,
   "id": "ef9ba674",
   "metadata": {},
   "outputs": [
    {
     "name": "stdout",
     "output_type": "stream",
     "text": [
      "{'mean': 9.0, 'variance': 0.0}\n",
      "\n",
      "  Umbrella         |\n",
      "Take     |Dont take|\n",
      "---------|---------|\n",
      " 1.0000  | 0.0000  |\n",
      "\n"
     ]
    }
   ],
   "source": [
    "ewe = gum.ShaferShenoyLIMIDInference(id) \n",
    "ewe.makeInference()\n",
    "print(ewe.MEU())\n",
    "print(ewe.optimalDecision(umbrella))"
   ]
  },
  {
   "cell_type": "code",
   "execution_count": 155,
   "id": "da5cc0d0",
   "metadata": {},
   "outputs": [
    {
     "data": {
      "image/svg+xml": [
       "<svg xmlns=\"http://www.w3.org/2000/svg\" xmlns:xlink=\"http://www.w3.org/1999/xlink\" width=\"160pt\" height=\"197pt\" viewBox=\"0.00 0.00 159.87 197.37\">\n",
       "<g id=\"graph0\" class=\"graph\" transform=\"scale(1 1) rotate(0) translate(4 193.37)\">\n",
       "<title>G</title>\n",
       "<!-- Rain -->\n",
       "<g id=\"node1\" class=\"node\">\n",
       "<title>Rain</title>\n",
       "<ellipse fill=\"#808080\" stroke=\"#4a4a4a\" cx=\"75.93\" cy=\"-168.86\" rx=\"33.47\" ry=\"20.51\"/>\n",
       "<text text-anchor=\"middle\" x=\"75.93\" y=\"-165.16\" font-family=\"Times,serif\" font-size=\"14.00\" fill=\"#4a4a4a\">Rain</text>\n",
       "</g>\n",
       "<!-- Umbrella -->\n",
       "<g id=\"node2\" class=\"node\">\n",
       "<title>Umbrella</title>\n",
       "<polygon fill=\"#9a5050\" stroke=\"#4a4a4a\" points=\"116.43,-112.36 35.43,-112.36 35.43,-83.36 116.43,-83.36 116.43,-112.36\"/>\n",
       "<text text-anchor=\"middle\" x=\"75.93\" y=\"-94.16\" font-family=\"Times,serif\" font-size=\"14.00\" fill=\"#4a4a4a\">Umbrella</text>\n",
       "</g>\n",
       "<!-- Rain&#45;&gt;Umbrella -->\n",
       "<g id=\"edge1\" class=\"edge\">\n",
       "<title>Rain-&gt;Umbrella</title>\n",
       "<polygon fill=\"#4a4a4a\" stroke=\"transparent\" stroke-width=\"2\" stroke-dasharray=\"1,5\" points=\"76.93,-148.27 76.89,-147.07 76.84,-145.84 76.79,-144.6 76.74,-143.35 76.69,-142.08 76.64,-140.8 76.59,-139.51 76.54,-138.21 76.49,-136.91 76.44,-135.6 76.39,-134.29 76.34,-132.97 76.29,-131.66 76.24,-130.35 76.18,-129.05 76.13,-127.75 76.08,-126.45 76.03,-125.17 75.98,-123.9 75.93,-122.63 75.93,-122.63 75.88,-123.9 75.84,-125.17 75.79,-126.45 75.73,-127.75 75.68,-129.05 75.63,-130.35 75.58,-131.66 75.53,-132.97 75.48,-134.29 75.43,-135.6 75.38,-136.91 75.33,-138.21 75.28,-139.51 75.23,-140.8 75.18,-142.08 75.13,-143.35 75.08,-144.6 75.03,-145.84 74.98,-147.07 74.93,-148.27 76.93,-148.27\"/>\n",
       "<polygon fill=\"#4a4a4a\" stroke=\"#4a4a4a\" stroke-width=\"2\" points=\"79.43,-122.37 75.93,-112.37 72.43,-122.37 79.43,-122.37\"/>\n",
       "</g>\n",
       "<!-- am i happy -->\n",
       "<g id=\"node3\" class=\"node\">\n",
       "<title>am i happy</title>\n",
       "<polygon fill=\"#50508a\" stroke=\"#4a4a4a\" points=\"151.8,-23.68 113.87,-47.54 38,-47.54 0.07,-23.68 38,0.18 113.87,0.18 151.8,-23.68\"/>\n",
       "<text text-anchor=\"middle\" x=\"75.93\" y=\"-19.98\" font-family=\"Times,serif\" font-size=\"14.00\" fill=\"#4a4a4a\">am i happy</text>\n",
       "</g>\n",
       "<!-- Umbrella&#45;&gt;am i happy -->\n",
       "<g id=\"edge2\" class=\"edge\">\n",
       "<title>Umbrella-&gt;am i happy</title>\n",
       "<path fill=\"none\" stroke=\"#4a4a4a\" stroke-dasharray=\"5,2\" d=\"M75.93,-83.28C75.93,-75.98 75.93,-66.64 75.93,-57.56\"/>\n",
       "<polygon fill=\"#4a4a4a\" stroke=\"#4a4a4a\" points=\"79.43,-57.56 75.93,-47.56 72.43,-57.56 79.43,-57.56\"/>\n",
       "</g>\n",
       "</g>\n",
       "</svg>"
      ],
      "text/plain": [
       "<IPython.core.display.SVG object>"
      ]
     },
     "metadata": {},
     "output_type": "display_data"
    }
   ],
   "source": [
    "gnb.showInfluenceDiagram(id)"
   ]
  },
  {
   "cell_type": "code",
   "execution_count": null,
   "id": "984bd3de",
   "metadata": {},
   "outputs": [],
   "source": []
  }
 ],
 "metadata": {
  "kernelspec": {
   "display_name": "bayes_env",
   "language": "python",
   "name": "python3"
  },
  "language_info": {
   "codemirror_mode": {
    "name": "ipython",
    "version": 3
   },
   "file_extension": ".py",
   "mimetype": "text/x-python",
   "name": "python",
   "nbconvert_exporter": "python",
   "pygments_lexer": "ipython3",
   "version": "3.10.16"
  }
 },
 "nbformat": 4,
 "nbformat_minor": 5
}
