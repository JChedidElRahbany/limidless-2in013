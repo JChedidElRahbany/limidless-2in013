{
 "cells": [
  {
   "cell_type": "code",
   "execution_count": null,
   "id": "9c76e6ba",
   "metadata": {},
   "outputs": [],
   "source": [
    "import pyagrum as gum\n",
    "import pyagrum.lib.notebook as gnb\n",
    "import pyagrum.causal as csl \n",
    "import pyagrum.causal.notebook as cslnb\n",
    "from typing import Generator"
   ]
  },
  {
   "cell_type": "code",
   "execution_count": null,
   "id": "9d0c26dd",
   "metadata": {},
   "outputs": [],
   "source": []
  }
 ],
 "metadata": {
  "kernelspec": {
   "display_name": "the pyagrum one",
   "language": "python",
   "name": "pyagrum"
  },
  "language_info": {
   "name": "python",
   "version": "3.11.5"
  }
 },
 "nbformat": 4,
 "nbformat_minor": 5
}
