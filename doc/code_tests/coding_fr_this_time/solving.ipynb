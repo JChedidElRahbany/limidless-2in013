{
 "cells": [
  {
   "cell_type": "code",
   "execution_count": 1,
   "id": "9c76e6ba",
   "metadata": {},
   "outputs": [],
   "source": [
    "import pyagrum as gum\n",
    "import pyagrum.lib.notebook as gnb\n",
    "import pyagrum.causal as csl \n",
    "import pyagrum.causal.notebook as cslnb\n",
    "from typing import Generator"
   ]
  },
  {
   "cell_type": "code",
   "execution_count": null,
   "id": "9d0c26dd",
   "metadata": {},
   "outputs": [],
   "source": [
    "class ClusterNode:\n",
    "    def __init__(self, id: gum.InfluenceDiagram, index : int, decisionSet: set[int], interfaceVars: set[int] = None):\n",
    "        self.id = id\n",
    "        self.index = index\n",
    "        self.decisionSet = decisionSet  # all variables in this cluster\n",
    "        self.nodeSet = set()    # !!! TO BE INITIALISED WITH NODE ONCE RELO AND RELH WORK\n",
    "        self.interfaceVars = interfaceVars  # shared with neighbours, initialised at clustering\n",
    "        self.incomingMessages = []  # from children\n",
    "        self.outgoingMessage = None  # to parent after computing self\n",
    "        self.children = []  # TREE STRUCTURE\n",
    "        self.parent = None\n",
    "        self.value = None  # V^C (from paper)\n",
    "\n",
    "    def pullMessages(self) -> list[float]:\n",
    "        '''\n",
    "        collect messages from children\n",
    "        '''\n",
    "        return [child.outgoingMessage for child in self.children]\n",
    "\n",
    "    def pushMessage(self) -> None:\n",
    "        '''\n",
    "        push message to parent\n",
    "        '''\n",
    "        self.outgoing_message = self.value\n",
    "\n",
    "    def isLeaf(self) -> bool:\n",
    "        return len(self.children) == 0\n",
    "    \n",
    "    def toID(self) -> gum.InfluenceDiagram:\n",
    "        '''\n",
    "        Description: \n",
    "        Converts submodel into its own standalone influence diagram.\n",
    "\n",
    "        Returns: \n",
    "        res : gum.InfluenceDiagram\n",
    "        '''\n",
    "        res = gum.InfluenceDiagram()\n",
    "        for n in self.nodeSet:\n",
    "            res.add(gum.LabelizedVariable(str(i)))\n",
    "        for src, dst in id.arcs():  # copy arcs over\n",
    "            if src in self.nodeSet and dst in self.nodeSet:\n",
    "                res.addArc(str(src), str(dst))\n",
    "        # DOESNT HANDLE INTERFACE VARS YET\n",
    "        return res\n",
    "\n",
    "    def solve(self):\n",
    "        ''' \n",
    "        dfs through the dag, get to leaves\n",
    "        turn leaf into gum.InfluenceDiagram\n",
    "        make interface variables into auxiliary utility nodes\n",
    "        SHAFER SHENOY IT\n",
    "        if V^C independant from everything or you are root, add it to final MEU\n",
    "        else push LMEU to parent\n",
    "        '''\n",
    "        pass\n"
   ]
  }
 ],
 "metadata": {
  "kernelspec": {
   "display_name": "the pyagrum one",
   "language": "python",
   "name": "myenv"
  },
  "language_info": {
   "codemirror_mode": {
    "name": "ipython",
    "version": 3
   },
   "file_extension": ".py",
   "mimetype": "text/x-python",
   "name": "python",
   "nbconvert_exporter": "python",
   "pygments_lexer": "ipython3",
   "version": "3.11.5"
  }
 },
 "nbformat": 4,
 "nbformat_minor": 5
}
