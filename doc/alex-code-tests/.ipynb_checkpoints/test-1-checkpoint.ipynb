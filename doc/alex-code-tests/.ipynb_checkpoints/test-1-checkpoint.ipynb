{
 "cells": [
  {
   "cell_type": "markdown",
   "id": "713ecb72-eef0-45c8-8efc-8f33b6b0533f",
   "metadata": {},
   "source": [
    "# Imports"
   ]
  },
  {
   "cell_type": "code",
   "execution_count": 6,
   "id": "190c622e-5f04-4643-8c8b-e7417f22350a",
   "metadata": {},
   "outputs": [],
   "source": [
    "# imports\n",
    "import numpy as np\n",
    "import pyagrum as gum\n",
    "import pyagrum.lib.notebook as gnb"
   ]
  },
  {
   "cell_type": "markdown",
   "id": "efae9f93-5dd9-4fac-8f44-8e73461750f9",
   "metadata": {},
   "source": [
    "# Tests"
   ]
  },
  {
   "cell_type": "code",
   "execution_count": 12,
   "id": "f37f63c3-4886-4b03-8c01-1619a7292939",
   "metadata": {},
   "outputs": [],
   "source": [
    "limid = gum.InfluenceDiagram()\n",
    "limid.addChanceNode(gum.LabelizedVariable(\"A\", \"a\", 2))\n",
    "limid.addChanceNode(gum.LabelizedVariable(\"B\", \"b\", 2))\n",
    "limid.addArc(limid.idFromName(\"A\"), limid.idFromName(\"B\"))"
   ]
  },
  {
   "cell_type": "code",
   "execution_count": 13,
   "id": "9b52b4c7-f413-409d-a6e1-1bc90ffbeee4",
   "metadata": {},
   "outputs": [
    {
     "data": {
      "text/html": [
       "<svg xmlns=\"http://www.w3.org/2000/svg\" xmlns:xlink=\"http://www.w3.org/1999/xlink\" width=\"62pt\" height=\"131pt\" viewBox=\"0.00 0.00 62.00 131.40\">\n",
       "<g id=\"graph0\" class=\"graph\" transform=\"scale(1 1) rotate(0) translate(4 127.4)\">\n",
       "<title>G</title>\n",
       "<!-- A -->\n",
       "<g id=\"node1\" class=\"node\">\n",
       "<title>A</title>\n",
       "<ellipse fill=\"#808080\" stroke=\"#4a4a4a\" cx=\"27\" cy=\"-101.55\" rx=\"27\" ry=\"21.85\"/>\n",
       "<text text-anchor=\"middle\" x=\"27\" y=\"-96.5\" font-family=\"Times,serif\" font-size=\"14.00\" fill=\"#4a4a4a\">A</text>\n",
       "</g>\n",
       "<!-- B -->\n",
       "<g id=\"node2\" class=\"node\">\n",
       "<title>B</title>\n",
       "<ellipse fill=\"#808080\" stroke=\"#4a4a4a\" cx=\"27\" cy=\"-21.85\" rx=\"27\" ry=\"21.85\"/>\n",
       "<text text-anchor=\"middle\" x=\"27\" y=\"-16.8\" font-family=\"Times,serif\" font-size=\"14.00\" fill=\"#4a4a4a\">B</text>\n",
       "</g>\n",
       "<!-- A&#45;&gt;B -->\n",
       "<g id=\"edge1\" class=\"edge\">\n",
       "<title>A-&gt;B</title>\n",
       "<path fill=\"none\" stroke=\"#4a4a4a\" d=\"M27,-79.32C27,-71.95 27,-63.51 27,-55.44\"/>\n",
       "<polygon fill=\"#4a4a4a\" stroke=\"#4a4a4a\" points=\"30.5,-55.57 27,-45.57 23.5,-55.57 30.5,-55.57\"/>\n",
       "</g>\n",
       "</g>\n",
       "</svg>"
      ],
      "text/plain": [
       "(pyagrum.InfluenceDiagram@0x57e79a94d660) Influence Diagram{\n",
       "  chance: 2,\n",
       "  utility: 0,\n",
       "  decision: 0,\n",
       "  arcs: 1,\n",
       "  domainSize: 4\n",
       "}"
      ]
     },
     "execution_count": 13,
     "metadata": {},
     "output_type": "execute_result"
    }
   ],
   "source": [
    "limid"
   ]
  },
  {
   "cell_type": "code",
   "execution_count": null,
   "id": "2325990c-d63d-4f76-963f-525ca978843c",
   "metadata": {},
   "outputs": [],
   "source": []
  }
 ],
 "metadata": {
  "kernelspec": {
   "display_name": "limidless-venv",
   "language": "python",
   "name": "venv"
  },
  "language_info": {
   "codemirror_mode": {
    "name": "ipython",
    "version": 3
   },
   "file_extension": ".py",
   "mimetype": "text/x-python",
   "name": "python",
   "nbconvert_exporter": "python",
   "pygments_lexer": "ipython3",
   "version": "3.13.3"
  }
 },
 "nbformat": 4,
 "nbformat_minor": 5
}
